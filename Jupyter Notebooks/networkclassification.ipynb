{
 "cells": [
  {
   "cell_type": "code",
   "execution_count": 1,
   "metadata": {
    "collapsed": true
   },
   "outputs": [],
   "source": [
    "import pandas as pd\n",
    "import numpy as np\n",
    "import matplotlib.pyplot as plt\n",
    "import json\n",
    "import missingno as mnso"
   ]
  },
  {
   "cell_type": "code",
   "execution_count": 65,
   "metadata": {},
   "outputs": [],
   "source": [
    "videodata=pd.read_csv(r\"C:\\Users\\Manasi\\Desktop\\games\\MainFile_W_PR_DEG.csv\",encoding='iso-8859-1')"
   ]
  },
  {
   "cell_type": "code",
   "execution_count": 5,
   "metadata": {},
   "outputs": [
    {
     "data": {
      "image/png": "[encoded data removed]",
      "text/plain": [
       "<matplotlib.figure.Figure at 0x2d7ccc58b70>"
      ]
     },
     "metadata": {},
     "output_type": "display_data"
    }
   ],
   "source": [
    "videodata.rating.plot(kind='hist')\n",
    "plt.show()"
   ]
  },
  {
   "cell_type": "code",
   "execution_count": 66,
   "metadata": {},
   "outputs": [
    {
     "name": "stdout",
     "output_type": "stream",
     "text": [
      "<class 'pandas.core.frame.DataFrame'>\n",
      "RangeIndex: 7167945 entries, 0 to 7167944\n",
      "Data columns (total 11 columns):\n",
      "videoID          object\n",
      "userID           object\n",
      "videoAge         float64\n",
      "category         object\n",
      "length           float64\n",
      "views            float64\n",
      "rating           float64\n",
      "numberRatings    float64\n",
      "comments         float64\n",
      "PageRank         float64\n",
      "InDegree         int64\n",
      "dtypes: float64(7), int64(1), object(3)\n",
      "memory usage: 601.6+ MB\n"
     ]
    }
   ],
   "source": [
    "videodata.info()"
   ]
  },
  {
   "cell_type": "code",
   "execution_count": 109,
   "metadata": {},
   "outputs": [
    {
     "data": {
      "text/html": [
       "<div>\n",
       "<table border=\"1\" class=\"dataframe\">\n",
       "  <thead>\n",
       "    <tr style=\"text-align: right;\">\n",
       "      <th></th>\n",
       "      <th>videoID</th>\n",
       "      <th>userID</th>\n",
       "      <th>videoAge</th>\n",
       "      <th>category</th>\n",
       "      <th>length</th>\n",
       "      <th>views</th>\n",
       "      <th>rating</th>\n",
       "      <th>numberRatings</th>\n",
       "      <th>comments</th>\n",
       "      <th>PageRank</th>\n",
       "      <th>InDegree</th>\n",
       "    </tr>\n",
       "  </thead>\n",
       "  <tbody>\n",
       "    <tr>\n",
       "      <th>0</th>\n",
       "      <td>LKh7zAJ4nwo</td>\n",
       "      <td>TheReceptionist</td>\n",
       "      <td>653.0</td>\n",
       "      <td>Entertainment</td>\n",
       "      <td>424.0</td>\n",
       "      <td>13021.0</td>\n",
       "      <td>4.34</td>\n",
       "      <td>1305.0</td>\n",
       "      <td>744.0</td>\n",
       "      <td>0.65462</td>\n",
       "      <td>45</td>\n",
       "    </tr>\n",
       "    <tr>\n",
       "      <th>1</th>\n",
       "      <td>7D0Mf4Kn4Xk</td>\n",
       "      <td>periurban</td>\n",
       "      <td>583.0</td>\n",
       "      <td>Music</td>\n",
       "      <td>201.0</td>\n",
       "      <td>6508.0</td>\n",
       "      <td>4.19</td>\n",
       "      <td>687.0</td>\n",
       "      <td>312.0</td>\n",
       "      <td>0.91563</td>\n",
       "      <td>65</td>\n",
       "    </tr>\n",
       "    <tr>\n",
       "      <th>2</th>\n",
       "      <td>n1cEq1C8oqQ</td>\n",
       "      <td>Pipistrello</td>\n",
       "      <td>525.0</td>\n",
       "      <td>Comedy</td>\n",
       "      <td>125.0</td>\n",
       "      <td>1687.0</td>\n",
       "      <td>4.01</td>\n",
       "      <td>363.0</td>\n",
       "      <td>141.0</td>\n",
       "      <td>1.06318</td>\n",
       "      <td>94</td>\n",
       "    </tr>\n",
       "    <tr>\n",
       "      <th>3</th>\n",
       "      <td>SDNkMu8ZT68</td>\n",
       "      <td>w00dy911</td>\n",
       "      <td>630.0</td>\n",
       "      <td>People &amp; Blogs</td>\n",
       "      <td>186.0</td>\n",
       "      <td>10181.0</td>\n",
       "      <td>3.49</td>\n",
       "      <td>494.0</td>\n",
       "      <td>257.0</td>\n",
       "      <td>0.68903</td>\n",
       "      <td>40</td>\n",
       "    </tr>\n",
       "    <tr>\n",
       "      <th>4</th>\n",
       "      <td>sRnLdmvQBsI</td>\n",
       "      <td>pdrop</td>\n",
       "      <td>735.0</td>\n",
       "      <td>Entertainment</td>\n",
       "      <td>188.0</td>\n",
       "      <td>67265.0</td>\n",
       "      <td>3.09</td>\n",
       "      <td>302.0</td>\n",
       "      <td>262.0</td>\n",
       "      <td>0.10000</td>\n",
       "      <td>21</td>\n",
       "    </tr>\n",
       "  </tbody>\n",
       "</table>\n",
       "</div>"
      ],
      "text/plain": [
       "       videoID           userID  videoAge        category  length    views  \\\n",
       "0  LKh7zAJ4nwo  TheReceptionist     653.0   Entertainment   424.0  13021.0   \n",
       "1  7D0Mf4Kn4Xk        periurban     583.0           Music   201.0   6508.0   \n",
       "2  n1cEq1C8oqQ      Pipistrello     525.0          Comedy   125.0   1687.0   \n",
       "3  SDNkMu8ZT68         w00dy911     630.0  People & Blogs   186.0  10181.0   \n",
       "4  sRnLdmvQBsI            pdrop     735.0   Entertainment   188.0  67265.0   \n",
       "\n",
       "   rating  numberRatings  comments  PageRank  InDegree  \n",
       "0    4.34         1305.0     744.0   0.65462        45  \n",
       "1    4.19          687.0     312.0   0.91563        65  \n",
       "2    4.01          363.0     141.0   1.06318        94  \n",
       "3    3.49          494.0     257.0   0.68903        40  \n",
       "4    3.09          302.0     262.0   0.10000        21  "
      ]
     },
     "execution_count": 109,
     "metadata": {},
     "output_type": "execute_result"
    }
   ],
   "source": [
    "videodata.head()"
   ]
  },
  {
   "cell_type": "code",
   "execution_count": 67,
   "metadata": {
    "collapsed": true
   },
   "outputs": [],
   "source": [
    "def dummyvar(df):\n",
    "    dumvar=df\n",
    "    dumvar.select_dtypes(include=['object']).copy()\n",
    "    dumvar=pd.get_dummies(dumvar, columns=[\"category\"], prefix=[\"type\"])\n",
    "    return dumvar"
   ]
  },
  {
   "cell_type": "code",
   "execution_count": 17,
   "metadata": {},
   "outputs": [],
   "source": [
    "df1=dummyvar(videodata)"
   ]
  },
  {
   "cell_type": "code",
   "execution_count": 68,
   "metadata": {
    "collapsed": true
   },
   "outputs": [],
   "source": [
    "df=df1.drop('videoID',axis=1)"
   ]
  },
  {
   "cell_type": "code",
   "execution_count": 69,
   "metadata": {},
   "outputs": [],
   "source": [
    "data=df.drop('userID', axis=1)"
   ]
  },
  {
   "cell_type": "code",
   "execution_count": 90,
   "metadata": {},
   "outputs": [
    {
     "name": "stdout",
     "output_type": "stream",
     "text": [
      "<class 'pandas.core.frame.DataFrame'>\n",
      "RangeIndex: 7167945 entries, 0 to 7167944\n",
      "Data columns (total 37 columns):\n",
      "videoAge                          float64\n",
      "length                            float64\n",
      "views                             float64\n",
      "rating                            float64\n",
      "numberRatings                     float64\n",
      "comments                          float64\n",
      "PageRank                          float64\n",
      "InDegree                          int64\n",
      "type_ UNA                         uint8\n",
      "type_Autos & Vehicles             uint8\n",
      "type_Autos &amp; Vehicles         uint8\n",
      "type_Comedy                       uint8\n",
      "type_Education                    uint8\n",
      "type_Entertainment                uint8\n",
      "type_Film & Animation             uint8\n",
      "type_Film &amp; Animation         uint8\n",
      "type_Gadgets & Games              uint8\n",
      "type_Gaming                       uint8\n",
      "type_Howto & DIY                  uint8\n",
      "type_Howto & Style                uint8\n",
      "type_Howto &amp; Style            uint8\n",
      "type_Music                        uint8\n",
      "type_News & Politics              uint8\n",
      "type_News &amp; Politics          uint8\n",
      "type_Nonprofits & Activism        uint8\n",
      "type_Nonprofits &amp; Activism    uint8\n",
      "type_People & Blogs               uint8\n",
      "type_People &amp; Blogs           uint8\n",
      "type_Pets & Animals               uint8\n",
      "type_Pets &amp; Animals           uint8\n",
      "type_Science & Technology         uint8\n",
      "type_Science &amp; Technology     uint8\n",
      "type_Sports                       uint8\n",
      "type_Travel & Events              uint8\n",
      "type_Travel & Places              uint8\n",
      "type_Travel &amp; Events          uint8\n",
      "class                             int32\n",
      "dtypes: float64(7), int32(1), int64(1), uint8(28)\n",
      "memory usage: 656.2 MB\n"
     ]
    }
   ],
   "source": [
    "data.info()"
   ]
  },
  {
   "cell_type": "code",
   "execution_count": 71,
   "metadata": {},
   "outputs": [],
   "source": [
    "data['class'] = np.where(data['rating']<4.2, '0', '1')"
   ]
  },
  {
   "cell_type": "code",
   "execution_count": 89,
   "metadata": {
    "collapsed": true
   },
   "outputs": [],
   "source": [
    "data['class']=data['class'].astype('int')"
   ]
  },
  {
   "cell_type": "code",
   "execution_count": 73,
   "metadata": {},
   "outputs": [],
   "source": [
    "from sklearn import metrics\n",
    "from sklearn import svm\n",
    "from statsmodels.formula.api import logit, probit, poisson, ols\n",
    "from sklearn.linear_model import LogisticRegression\n",
    "import statsmodels.api as sm\n",
    "from sklearn.cross_validation import train_test_split\n",
    "from sklearn.metrics import confusion_matrix\n",
    "from sklearn.metrics import roc_curve\n",
    "from sklearn.cross_validation  import cross_val_score"
   ]
  },
  {
   "cell_type": "code",
   "execution_count": null,
   "metadata": {
    "collapsed": true
   },
   "outputs": [],
   "source": []
  },
  {
   "cell_type": "code",
   "execution_count": 91,
   "metadata": {
    "collapsed": true
   },
   "outputs": [],
   "source": [
    "train_cols=data[['videoAge','views','numberRatings','comments','PageRank','InDegree','class']]"
   ]
  },
  {
   "cell_type": "code",
   "execution_count": 92,
   "metadata": {},
   "outputs": [],
   "source": [
    "msk = np.random.rand(len(train_cols)) < 0.8\n",
    "train = train_cols[msk]\n",
    "test = train_cols[~msk]"
   ]
  },
  {
   "cell_type": "code",
   "execution_count": 93,
   "metadata": {},
   "outputs": [
    {
     "data": {
      "text/plain": [
       "(1434870, 7)"
      ]
     },
     "execution_count": 93,
     "metadata": {},
     "output_type": "execute_result"
    }
   ],
   "source": [
    "test.shape"
   ]
  },
  {
   "cell_type": "code",
   "execution_count": 94,
   "metadata": {},
   "outputs": [],
   "source": [
    "X_Train=train.drop('class',axis=1)\n",
    "Y_Train=train['class']"
   ]
  },
  {
   "cell_type": "code",
   "execution_count": 95,
   "metadata": {
    "collapsed": true
   },
   "outputs": [],
   "source": [
    "X_Test=train.drop('class',axis=1)\n",
    "Y_Test=train['class']"
   ]
  },
  {
   "cell_type": "code",
   "execution_count": 96,
   "metadata": {
    "collapsed": true
   },
   "outputs": [],
   "source": [
    "model = LogisticRegression()\n",
    "mod_fit = model.fit(X_Train,Y_Train)"
   ]
  },
  {
   "cell_type": "code",
   "execution_count": 97,
   "metadata": {},
   "outputs": [
    {
     "name": "stdout",
     "output_type": "stream",
     "text": [
      "0.621849007731\n"
     ]
    }
   ],
   "source": [
    "print(model.score(X_Train,Y_Train))"
   ]
  },
  {
   "cell_type": "code",
   "execution_count": 98,
   "metadata": {
    "collapsed": true
   },
   "outputs": [],
   "source": [
    "pred = mod_fit.predict(X_Test)"
   ]
  },
  {
   "cell_type": "code",
   "execution_count": 99,
   "metadata": {},
   "outputs": [
    {
     "data": {
      "text/plain": [
       "0.62184900773145302"
      ]
     },
     "execution_count": 99,
     "metadata": {},
     "output_type": "execute_result"
    }
   ],
   "source": [
    "metrics.accuracy_score(Y_Test,pred)"
   ]
  },
  {
   "cell_type": "code",
   "execution_count": 100,
   "metadata": {},
   "outputs": [
    {
     "name": "stdout",
     "output_type": "stream",
     "text": [
      "[[   5947 2163583]\n",
      " [   4385 3559160]]\n"
     ]
    }
   ],
   "source": [
    "print (metrics.confusion_matrix(Y_Test,pred))\n"
   ]
  },
  {
   "cell_type": "code",
   "execution_count": 101,
   "metadata": {},
   "outputs": [],
   "source": [
    "preds = model.predict_proba(X_Test)[:,1]\n",
    "fpr,tpr, _ = roc_curve(Y_Test,preds)"
   ]
  },
  {
   "cell_type": "code",
   "execution_count": 102,
   "metadata": {},
   "outputs": [
    {
     "data": {
      "image/png": "[encoded data removed]",
      "text/plain": [
       "<matplotlib.figure.Figure at 0x2d7a97122e8>"
      ]
     },
     "metadata": {},
     "output_type": "display_data"
    }
   ],
   "source": [
    "import matplotlib.pylab as plt\n",
    "\n",
    "plt.figure()\n",
    "plt.plot(fpr,tpr,label= \"ROC CURVE\")\n",
    "plt.plot([0,1],[0,1],'k--')\n",
    "plt.xlim([0.0,1.0])\n",
    "plt.ylim([0.0,1.05])\n",
    "plt.xlabel('1-Specificity')\n",
    "plt.ylabel('Sensitivity')\n",
    "plt.title('ROC CURVE')\n",
    "plt.legend(loc=\"lower right\")\n",
    "plt.show()"
   ]
  },
  {
   "cell_type": "code",
   "execution_count": 103,
   "metadata": {
    "collapsed": true
   },
   "outputs": [],
   "source": [
    "from imblearn.over_sampling import ADASYN\n",
    "from imblearn.over_sampling import SMOTE\n",
    "from imblearn.combine import SMOTEENN\n",
    "from sklearn.neighbors import NearestNeighbors\n",
    "import datetime\n",
    "from matplotlib.finance import date2num\n",
    "from sklearn.cross_validation import train_test_split\n",
    "from imblearn.under_sampling import RandomUnderSampler"
   ]
  },
  {
   "cell_type": "code",
   "execution_count": 106,
   "metadata": {},
   "outputs": [],
   "source": [
    "RND_SEED=0\n",
    "sm_enn = SMOTEENN(ratio=0.8,k=5,size_ngh=5,random_state=1)\n",
    "X_train_resampled, y_train_resampled = sm_enn.fit_sample(X_Train, Y_Train)"
   ]
  },
  {
   "cell_type": "code",
   "execution_count": 108,
   "metadata": {},
   "outputs": [
    {
     "data": {
      "text/plain": [
       "videoAge         float64\n",
       "views            float64\n",
       "numberRatings    float64\n",
       "comments         float64\n",
       "PageRank         float64\n",
       "InDegree           int64\n",
       "dtype: object"
      ]
     },
     "execution_count": 108,
     "metadata": {},
     "output_type": "execute_result"
    }
   ],
   "source": []
  }
 ],
 "metadata": {
  "kernelspec": {
   "display_name": "Python 3",
   "language": "python",
   "name": "python3"
  },
  "language_info": {
   "codemirror_mode": {
    "name": "ipython",
    "version": 3
   },
   "file_extension": ".py",
   "mimetype": "text/x-python",
   "name": "python",
   "nbconvert_exporter": "python",
   "pygments_lexer": "ipython3",
   "version": "3.6.0"
  }
 },
 "nbformat": 4,
 "nbformat_minor": 2
}
